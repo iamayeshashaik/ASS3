{
  "nbformat": 4,
  "nbformat_minor": 0,
  "metadata": {
    "colab": {
      "provenance": []
    },
    "kernelspec": {
      "name": "python3",
      "display_name": "Python 3"
    },
    "language_info": {
      "name": "python"
    }
  },
  "cells": [
    {
      "cell_type": "code",
      "source": [
        "import pandas as pd\n",
        "import numpy as np\n",
        "import matplotlib.pyplot as plt\n",
        "import seaborn as sns\n",
        "import sklearn as sk\n",
        "import scipy as sp\n",
        "df = pd.read_csv(\"C:\\\\Users\\\\tharu\\\\Downloads\\\\house_rental_data.csv\")\n",
        "df.head()\n",
        "df.drop('Unnamed: 0', axis=1, inplace= True)\n",
        "df.head()"
      ],
      "metadata": {
        "id": "57aZ9wILxgoU"
      },
      "execution_count": null,
      "outputs": []
    },
    {
      "cell_type": "code",
      "source": [
        "df.shape\n",
        "(645, 7)\n",
        "df.info()\n",
        "df.describe()"
      ],
      "metadata": {
        "id": "Huyg_xPDyFOp"
      },
      "execution_count": null,
      "outputs": []
    },
    {
      "cell_type": "code",
      "source": [
        "sns.pairplot(df)"
      ],
      "metadata": {
        "id": "9lfqP2_pyi2a"
      },
      "execution_count": null,
      "outputs": []
    },
    {
      "cell_type": "code",
      "source": [
        "df.corr\n",
        "plt.show()"
      ],
      "metadata": {
        "id": "GirY50_5yv_3"
      },
      "execution_count": null,
      "outputs": []
    },
    {
      "cell_type": "code",
      "source": [
        "plt.bar(df['Floor'], df['Price'])\n",
        "plt.xlabel('Floor')\n",
        "plt.ylabel('Price')"
      ],
      "metadata": {
        "id": "R35lB1T7yydH"
      },
      "execution_count": null,
      "outputs": []
    },
    {
      "cell_type": "code",
      "source": [
        "plt.bar(df['Sqft'], df['Price'])\n",
        "plt.xlabel('Square_Feet')\n",
        "plt.ylabel('Price')"
      ],
      "metadata": {
        "id": "qYRILIJWzEgv"
      },
      "execution_count": null,
      "outputs": []
    },
    {
      "cell_type": "code",
      "source": [
        "plt.figure(figsize=(12, 8))\n",
        "plt.scatter(df['Sqft'], df['Price'])\n",
        "plt.xlabel('Square_Feet')\n",
        "plt.ylabel('Price')\n",
        "plt.title('Price vs Square Feet')\n",
        "plt.show()\n"
      ],
      "metadata": {
        "id": "IGfW9jbTzMr-"
      },
      "execution_count": null,
      "outputs": []
    },
    {
      "cell_type": "code",
      "source": [
        "plt.figure(figsize=(12, 8))\n",
        "plt.scatter(df['Floor'], df['Price'])\n",
        "plt.xlabel('Floor')\n",
        "plt.ylabel('Price')\n",
        "plt.title('Price vs Floor')\n",
        "plt.show()"
      ],
      "metadata": {
        "id": "mnfvK93hzN-w"
      },
      "execution_count": null,
      "outputs": []
    },
    {
      "cell_type": "code",
      "source": [
        "from sklearn.model_selection import train_test_split\n",
        "from sklearn.neighbors import KNeighborsRegressor\n",
        "from sklearn.metrics import mean_squared_error\n",
        "X = df.iloc[:, :-1].values\n",
        "y = df.iloc[:, -1].values\n",
        "X_train, X_test, y_train, y_test = train_test_split(X, y, test_size=0.2, random_state=42)\n",
        "# Finding a better value of k\n",
        "rmse_values = []\n",
        "for k in range(1, 21):\n",
        "    knn = KNeighborsRegressor(n_neighbors=k)\n",
        "    knn.fit(X_train, y_train)\n",
        "    y_pred = knn.predict(X_test)\n",
        "    rmse_values.append(np.sqrt(mean_squared_error(y_test, y_pred)))\n",
        "\n",
        "plt.figure(figsize=(12, 8))\n",
        "plt.plot(range(1, 21), rmse_values, marker='o')\n",
        "plt.xlabel('Number of Neighbors')\n",
        "plt.ylabel('RMSE')\n",
        "plt.title('RMSE vs Number of Neighbors')\n",
        "plt.show()"
      ],
      "metadata": {
        "id": "OSwcNRsfzYth"
      },
      "execution_count": null,
      "outputs": []
    },
    {
      "cell_type": "code",
      "source": [
        "dfx = pd.read_csv(\"C:\\\\Users\\\\tharu\\\\Downloads\\\\HR_comma_s.csv\")\n",
        "dfx.head()\n",
        "dfx.shape\n",
        "(14999, 10)\n",
        "dfx.isnull().sum()\n"
      ],
      "metadata": {
        "id": "6EYoNvoxzbAs"
      },
      "execution_count": null,
      "outputs": []
    },
    {
      "cell_type": "code",
      "source": [
        "df.isna().sum()\n",
        "Sqft           0\n",
        "Floor          0\n",
        "TotalFloor     0\n",
        "Bedroom        0\n",
        "Living.Room    0\n",
        "Bathroom       0\n",
        "Price          0\n",
        "dtype: int64\n",
        "from sklearn.preprocessing import LabelEncoder, StandardScaler\n",
        "from sklearn.model_selection import train_test_split\n",
        "from sklearn.ensemble import RandomForestClassifier\n",
        "from sklearn.metrics import accuracy_score\n",
        "le = LabelEncoder()\n",
        "dfx['sales'] = le.fit_transform(dfx['sales'])\n",
        "dfx['salary'] = le.fit_transform(dfx['salary'])\n",
        "scale = StandardScaler()\n",
        "dfx[['satisfaction_level', 'last_evaluation', 'average_montly_hours', 'time_spend_company']] = scale.fit_transform(dfx[['satisfaction_level', 'last_evaluation', 'average_montly_hours', 'time_spend_company']])\n",
        "X_train, X_test, y_train, y_test = train_test_split(dfx.drop('left', axis=1), dfx['left'], test_size=0.2, random_state=42)\n",
        "rfc = RandomForestClassifier(n_estimators=100)\n",
        "rfc.fit(X_train, y_train)"
      ],
      "metadata": {
        "id": "JdQm0FfPzuhY"
      },
      "execution_count": null,
      "outputs": []
    },
    {
      "cell_type": "code",
      "source": [
        "y_pred = rfc.predict(X_test)\n",
        "accuracy = accuracy_score(y_test, y_pred)\n",
        "print('Accuracy :\\n','-'*20, sep=\"\")\n",
        "accuracy\n",
        "Accuracy :\n",
        "--------------------\n",
        "0.9886666666666667\n",
        "dfy = pd.\n",
        "\n",
        "dfy = pd.read_csv(\"C:\\\\Users\\\\tharu\\\\Downloads\\\\mobile_price_data.csv\")\n",
        "dfy.head()"
      ],
      "metadata": {
        "id": "vL4R_LNk0GBk"
      },
      "execution_count": null,
      "outputs": []
    },
    {
      "cell_type": "code",
      "source": [
        "dfy.info()\n",
        "<class 'pandas.core.frame.DataFrame'>\n",
        "RangeIndex: 459 entries, 0 to 458\n",
        "Data columns (total 20 columns):\n",
        " #   Column         Non-Null Count  Dtype \n",
        "---  ------         --------------  ----- \n",
        " 0   mobile_name    459 non-null    object\n",
        " 1   mobile_price   459 non-null    object\n",
        " 2   mobile_color   459 non-null    object\n",
        " 3   dual_sim       459 non-null    object\n",
        " 4   disp_size      459 non-null    object\n",
        " 5   resolution     459 non-null    object\n",
        " 6   os             459 non-null    object\n",
        " 7   num_cores      459 non-null    object\n",
        " 8   mp_speed       459 non-null    object\n",
        " 9   int_memory     459 non-null    object\n",
        " 10  ram            459 non-null    object\n",
        " 11  p_cam          459 non-null    object\n",
        " 12  f_cam          459 non-null    object\n",
        " 13  network        459 non-null    object\n",
        " 14  bluetooth      459 non-null    object\n",
        " 15  battery_power  459 non-null    object\n",
        " 16  mob_width      459 non-null    object\n",
        " 17  mob_height     459 non-null    object\n",
        " 18  mob_depth      459 non-null    object\n",
        " 19  mob_weight     459 non-null    object\n",
        "dtypes: object(20)\n",
        "memory usage: 71.8+ KB\n",
        "dfy['mobile_name'].unique()"
      ],
      "metadata": {
        "id": "VH3SzbmB0M8u"
      },
      "execution_count": null,
      "outputs": []
    },
    {
      "cell_type": "code",
      "source": [
        "status = dict(zip(dfy.columns,list([0]*len(dfy.columns))))\n",
        "def print_processed_status(dfy):\n",
        "    for col in dfy.columns:\n",
        "        print(col, status[col])\n",
        "print(print_processed_status(dfy))\n",
        "mobile_name 0\n",
        "mobile_price 0\n",
        "mobile_color 0\n",
        "dual_sim 0\n",
        "disp_size 0\n",
        "resolution 0\n",
        "os 0\n",
        "num_cores 0\n",
        "mp_speed 0\n",
        "int_memory 0\n",
        "ram 0\n",
        "p_cam 0\n",
        "f_cam 0\n",
        "network 0\n",
        "bluetooth 0\n",
        "battery_power 0\n",
        "mob_width 0\n",
        "mob_height 0\n",
        "mob_depth 0\n",
        "mob_weight 0\n",
        "None\n",
        "def numericize(dfy,col):\n",
        "    return pd.to_numeric(dfy[col].str.replace('[a-zA-Z]','',regex=True))\n",
        "dfy['mp_speed'] = numericize(dfy,'mp_speed')\n",
        "dfy['mp_speed'].unique()"
      ],
      "metadata": {
        "id": "ZORpnynW0Vqq"
      },
      "execution_count": null,
      "outputs": []
    },
    {
      "cell_type": "code",
      "source": [
        "status['mp_speed'] = 1\n",
        "dfy['int_memory'] = numericize(dfy,'int_memory')\n",
        "dfy['int_memory'].unique()\n",
        "status['int_memory'] = 1\n",
        "dfy['ram'] = numericize(dfy,'ram')\n",
        "dfy['ram'].unique()\n",
        "status['ram'] = 1\n",
        "dfy['battery_power'] = numericize(dfy,'battery_power')\n",
        "dfy['battery_power'].unique()\n",
        "status['battery_power'] = 1\n",
        "dfy['mob_width'] = numericize(dfy,'mob_width')\n",
        "dfy['mob_width'].unique()\n",
        "status['mob_width'] = 1\n",
        "dfy['mob_height'] = numericize(dfy,'mob_height')\n",
        "dfy['mob_height'].unique()\n",
        "status['mob_height'] = 1\n",
        "dfy['mob_depth'] = numericize(dfy,'mob_depth')\n",
        "dfy['mob_depth'].unique()\n",
        "status['mob_depth'] = 1\n",
        "dfy['mob_weight'] = numericize(dfy,'mob_weight')\n",
        "dfy['mob_weight'].unique()\n",
        "status['mob_weight'] = 1\n",
        "dfy.corr()"
      ],
      "metadata": {
        "id": "7M-o6ddt0fSX"
      },
      "execution_count": null,
      "outputs": []
    },
    {
      "cell_type": "code",
      "source": [
        "sns.heatmap(dfy.corr())"
      ],
      "metadata": {
        "id": "Ni8wMmh20knu"
      },
      "execution_count": null,
      "outputs": []
    },
    {
      "cell_type": "code",
      "source": [
        "def edit_numericize(dfy,col,strs_to_remove):\n",
        "    processed = dfy[col]\n",
        "    for string in strs_to_remove:\n",
        "        processed = processed.str.replace(string,'',regex=False)\n",
        "    return pd.to_numeric(processed)\n",
        "\n",
        "\n",
        "dfy['mobile_price'] = edit_numericize(dfy,'mobile_price',['₹',','])\n",
        "dfy['mobile_price'].unique()\n",
        "status['mobile_price'] = 1\n",
        "dfy.bluetooth[dfy.bluetooth == 'Yes'] = 1\n",
        "C:\\Users\\tharu\\AppData\\Local\\Temp\\ipykernel_1156\\2643461948.py:1: SettingWithCopyWarning: \n",
        "A value is trying to be set on a copy of a slice from a DataFrame\n",
        "\n",
        "See the caveats in the documentation: https://pandas.pydata.org/pandas-docs/stable/user_guide/indexing.html#returning-a-view-versus-a-copy\n",
        "  dfy.bluetooth[dfy.bluetooth == 'Yes'] = 1\n",
        "dfy['num_cores'].unique()\n",
        "array(['Octa Core', 'Quad Core', 'Single Core'], dtype=object)\n",
        "dfy['dual_sim'].unique()\n",
        "array(['Dual Sim', 'Single Sim'], dtype=object)\n",
        "def encoder(dfy):\n",
        "    dfy.dual_sim[dfy.dual_sim == 'Dual Sim'] = 2\n",
        "    dfy.dual_sim[dfy.dual_sim == 'Single Sim'] = 1\n",
        "encoder(dfy)"
      ],
      "metadata": {
        "id": "NJfNGkdj0sMB"
      },
      "execution_count": null,
      "outputs": []
    },
    {
      "cell_type": "code",
      "source": [
        "dfy['dual_sim'].unique()\n",
        "array([2, 1], dtype=object)\n",
        "dfy.num_cores.unique()\n",
        "array(['Octa Core', 'Quad Core', 'Single Core'], dtype=object)\n",
        "def encoder(dfy):\n",
        "    dfy.num_cores[dfy.num_cores == 'Octa Core'] = 8\n",
        "    dfy.num_cores[dfy.num_cores == 'Quad Core'] = 4\n",
        "    dfy.num_cores[dfy.num_cores == 'Single Core'] = 1\n",
        "encoder(dfy)"
      ],
      "metadata": {
        "id": "Vf7eP6Oy0x7C"
      },
      "execution_count": null,
      "outputs": []
    },
    {
      "cell_type": "code",
      "source": [
        "dfy['num_cores'].value_counts()\n",
        "8    444\n",
        "4     14\n",
        "1      1\n",
        "Name: num_cores, dtype: int64\n",
        "dfy.os.unique()\n",
        "array(['Android 10', 'Android Pie 9.0', 'Android Pie 9',\n",
        "       'Android Oreo 8.1', 'Android Pie 10', 'Android Nougat 7.1.1',\n",
        "       'Android Oreo 8.0', 'Android Nougat 7.1.2', 'Android KitKat 4.4.2',\n",
        "       'Android Marshmallow 6.0.1', 'Android Nougat 7.1',\n",
        "       'Android Marshmallow 6', 'Android Nougat 7',\n",
        "       'Android Lollipop 5.4.1', 'Android Oreo 8.1.0', 'Android Oreo 8',\n",
        "       'Android Lollipop 5.1', 'Android Lollipop 5.1.1'], dtype=object)\n",
        "dfy.os = dfy.os.map( {\n",
        "        'Android 10' : 10.0, 'Android Pie 9.0' : 9.0, 'Android Pie 9' : 9.0,\n",
        "       'Android Oreo 8.1' : 8.1, 'Android Pie 10' : 10.0, 'Android Nougat 7.1.1' : 7.1,\n",
        "       'Android Oreo 8.0' : 8.0, 'Android Nougat 7.1.2' : 7.1, 'Android KitKat 4.4.2' : 4.4,\n",
        "       'Android Marshmallow 6.0.1' : 6.0, 'Android Nougat 7.1' : 7.1,\n",
        "       'Android Marshmallow 6' : 6.0, 'Android Nougat 7' : 7.0,\n",
        "       'Android Lollipop 5.4.1' : 5.4, 'Android Oreo 8.1.0' : 8.1, 'Android Oreo 8' : 8.0,\n",
        "       'Android Lollipop 5.1' : 5.1, 'Android Lollipop 5.1.1' : 5.1\n",
        "    } )\n",
        "dfy.os.unique()\n",
        "array([10. ,  9. ,  8.1,  7.1,  8. ,  4.4,  6. ,  7. ,  5.4,  5.1])"
      ],
      "metadata": {
        "id": "nz40OO5-04V4"
      },
      "execution_count": null,
      "outputs": []
    },
    {
      "cell_type": "code",
      "source": [
        "dfy.disp_size.unique()\n",
        "array(['16.56 cm (6.52 inch)', '16.51 cm (6.5 inch)',\n",
        "       '16.0 cm (6.3 inch)', '16.26 cm (6.4 inch)',\n",
        "       '16.36 cm (6.44 inch)', '16.76 cm (6.6 inch)',\n",
        "       '15.49 cm (6.1 inch)', '16.69 cm (6.57 inch)',\n",
        "       '15.8 cm (6.22 inch)', '16.23 cm (6.39 inch)',\n",
        "       '16.94 cm (6.67 inch)', '15.44 cm (6.08 inch)',\n",
        "       '15.21 cm (5.99 inch)', '15.9 cm (6.26 inch)', '12.7 cm (5 inch)',\n",
        "       '15.46 cm (6.088 inch)', '13.97 cm (5.5 inch)',\n",
        "       '13.84 cm (5.45 inch)', '16.13 cm (6.35 inch)',\n",
        "       '16.21 cm (6.38 inch)', '16.59 cm (6.53 inch)',\n",
        "       '16.28 cm (6.41 inch)', '16.74 cm (6.59 inch)',\n",
        "       '14.48 cm (5.7 inch)', '15.24 cm (6 inch)', '13.21 cm (5.2 inch)',\n",
        "       '17.02 cm (6.7 inch)', '11.94 cm (4.7 inch)',\n",
        "       '15.06 cm (5.93 inch)', '15.75 cm (6.2 inch)',\n",
        "       '15.72 cm (6.19 inch)', '14.35 cm (5.65 inch)',\n",
        "       '15.19 cm (5.98 inch)', '15.77 cm (6.21 inch)',\n",
        "       '15.7 cm (6.18 inch)', '15.82 cm (6.23 inch)'], dtype=object)\n",
        "dfy[['disp_size', 'xc','vb', 'bn']] = dfy['disp_size'].str.split(' ', expand=True)\n",
        "dfy.drop('xc', axis = 1, inplace=True)\n",
        "dfy.drop('bn', axis = 1, inplace=True)\n",
        "dfy.drop('vb', axis = 1, inplace=True)\n",
        "dfy[['resolution_Hight', 'resolution_width', \"axs\"]] = dfy['resolution'].str.split('x', expand=True)"
      ],
      "metadata": {
        "id": "CJPwIH6W0_MW"
      },
      "execution_count": null,
      "outputs": []
    },
    {
      "cell_type": "code",
      "source": [
        "dfy.drop('azx', axis=1, inplace=True)\n",
        "dfy.drop('z', axis=1, inplace=True)\n",
        "dfy.drop('resolution', axis=1, inplace=True)\n",
        "dfy.info()\n",
        "<class 'pandas.core.frame.DataFrame'>\n",
        "RangeIndex: 459 entries, 0 to 458\n",
        "Data columns (total 21 columns):\n",
        " #   Column            Non-Null Count  Dtype  \n",
        "---  ------            --------------  -----  \n",
        " 0   mobile_name       459 non-null    object \n",
        " 1   mobile_price      459 non-null    int64  \n",
        " 2   mobile_color      459 non-null    object \n",
        " 3   dual_sim          459 non-null    object \n",
        " 4   disp_size         459 non-null    object \n",
        " 5   os                459 non-null    float64\n",
        " 6   num_cores         459 non-null    object \n",
        " 7   mp_speed          459 non-null    float64\n",
        " 8   int_memory        459 non-null    int64  \n",
        " 9   ram               459 non-null    int64  \n",
        " 10  p_cam             459 non-null    object \n",
        " 11  f_cam             459 non-null    object \n",
        " 12  network           459 non-null    object \n",
        " 13  bluetooth         459 non-null    object \n",
        " 14  battery_power     459 non-null    int64  \n",
        " 15  mob_width         459 non-null    float64\n",
        " 16  mob_height        459 non-null    float64\n",
        " 17  mob_depth         459 non-null    float64\n",
        " 18  mob_weight        459 non-null    float64"
      ],
      "metadata": {
        "id": "DNUIgVMy1G2e"
      },
      "execution_count": null,
      "outputs": []
    },
    {
      "cell_type": "code",
      "source": [
        "19  resolution_Hight  459 non-null    object \n",
        " 20  resolution_width  445 non-null    object \n",
        "dtypes: float64(6), int64(4), object(11)\n",
        "memory usage: 75.4+ KB\n",
        "dfy.network.unique()"
      ],
      "metadata": {
        "id": "qPP-Whcc1XUL"
      },
      "execution_count": null,
      "outputs": []
    },
    {
      "cell_type": "code",
      "source": [
        "dfy['network_count'] = [len(x.split(',')) for x in dfy['network']]\n",
        "dfy['network_count'].unique()\n",
        "array([4, 3, 5, 2, 1], dtype=int64)\n",
        "dfy.drop('network', axis=1, inplace=True)\n",
        "def replace_regex(dfy,col,chars_to_remove):\n",
        "    processed = dfy[col]\n",
        "    for char in chars_to_remove:\n",
        "        processed = processed.str.replace(char,'',regex=True)\n",
        "    return processed\n",
        "\n",
        "dfy['mobile_color_basic'] = replace_regex(dfy,'mobile_color',['.* '])\n",
        "dfy['mobile_color_basic'].unique()\n",
        "array(['White', 'Blue', 'Green', 'Sea', 'Red', 'Orange', 'Black', 'Ruby',\n",
        "       'Sapphire', 'Purple', 'Brick', 'Concrete', 'Grey', 'Gold',\n",
        "       'Silver', 'white', 'gold', 'Violet', 'Wave', 'Gray', 'Brown',\n",
        "       'Cyan', 'Edition', 'Greener', 'Champagne', 'Mint', 'Mist'],\n",
        "      dtype=object)\n",
        "dfy.drop('mobile_color', axis=1, inplace=True)"
      ],
      "metadata": {
        "id": "G27P3E9S1dzd"
      },
      "execution_count": null,
      "outputs": []
    },
    {
      "cell_type": "code",
      "source": [
        "dfy['mobile_brand'] = replace_regex(dfy, 'mobile_name', [' .*'])\n",
        "dfy['mobile_brand'].unique()\n",
        "dfy.head()"
      ],
      "metadata": {
        "id": "mQKch67_1j9l"
      },
      "execution_count": null,
      "outputs": []
    },
    {
      "cell_type": "code",
      "source": [
        "dfy.drop('mobile_name', axis=1, inplace=True)\n",
        "def replace_regex_numericize(dfy,col,chars_to_remove):\n",
        "    processed = dfy[col]\n",
        "    for char in chars_to_remove:\n",
        "        processed = processed.str.replace(char,'',regex=True)\n",
        "    return pd.to_numeric(processed)\n",
        "dfy['f_camera'] = replace_regex_numericize(dfy,'f_cam',['MP.*'])\n",
        "dfy.drop('f_cam', axis=1, inplace=True)\n",
        "dfy.p_cam.head()\n",
        "0          12MP + 2MP + 2MP\n",
        "1          12MP + 2MP + 2MP\n",
        "2          12MP + 2MP + 2MP\n",
        "3          12MP + 2MP + 2MP\n",
        "4    48MP + 8MP + 2MP + 2MP\n",
        "Name: p_cam, dtype: object\n",
        "dfy['p_cam_max'] = [x[0:2].replace('M','') for x in dfy['p_cam']]\n",
        "dfy['p_cam_max'] = numericize(dfy,'p_cam_max')\n",
        "dfy['p_cam_max'].unique()\n",
        "array([12, 48, 64, 16, 13, 20, 10,  8,  5], dtype=int64)\n",
        "dfy.drop('p_cam', axis=1,inplace=True)"
      ],
      "metadata": {
        "id": "-Lg5iFZZ1qWd"
      },
      "execution_count": null,
      "outputs": []
    },
    {
      "cell_type": "code",
      "source": [
        "dfy.head()\n",
        "mobile_price\tdual_sim\tdisp_size\tos\tnum_cores\tmp_speed\tint_memory\tram\tbluetooth\tbattery_power\t...\tmob_height\tmob_depth\tmob_weight\tresolution_Hight\tresolution_width\tnetwork_count\tmobile_color_basic\tmobile_brand\tf_camera\tp_cam_max\n",
        "0\t8999\t2\t16.56\t10.0\t8\t2.0\t32\t3\t1\t5000\t...\t164.4\t8.95\t195.0\t1600\t720\t4\tWhite\tRealme\t5\t12\n",
        "1\t8999\t2\t16.56\t10.0\t8\t2.0\t32\t3\t1\t5000\t...\t164.4\t8.95\t195.0\t1600\t720\t4\tBlue\tRealme\t5\t12\n",
        "2\t9999\t2\t16.56\t10.0\t8\t2.0\t64\t4\t1\t5000\t...\t164.4\t8.95\t195.0\t1600\t720\t4\tBlue\tRealme\t5\t12\n",
        "3\t9999\t2\t16.56\t10.0\t8\t2.0\t64\t4\t1\t5000\t...\t164.4\t8.95\t195.0\t1600\t720\t4\tWhite\tRealme\t5\t12\n",
        "4\t11999\t2\t16.51\t10.0\t8\t2.0\t128\t4\t1\t5000\t...\t164.4\t9.00\t199.0\t1600\t720\t4\tGreen\tRealme\t16\t48\n",
        "5 rows × 21 columns\n",
        "\n",
        "dfy.to_csv('Mob_data.csv', index=False)\n",
        "plt.bar(dfy['mobile_brand'], dfy['mobile_price'])\n",
        "plt.xlabel('Brand')\n",
        "plt.ylabel('Price')"
      ],
      "metadata": {
        "id": "AHmm-71m1v_z"
      },
      "execution_count": null,
      "outputs": []
    },
    {
      "cell_type": "code",
      "source": [
        "sns.heatmap(dfy.corr())"
      ],
      "metadata": {
        "id": "wFMUdrWm11tk"
      },
      "execution_count": null,
      "outputs": []
    },
    {
      "cell_type": "code",
      "source": [
        "from sklearn.model_selection import train_test_split\n",
        "from sklearn.preprocessing import StandardScaler\n",
        "from sklearn.impute import SimpleImputer\n",
        "from sklearn.compose import ColumnTransformer\n",
        "from sklearn.pipeline import Pipeline\n",
        "from sklearn.linear_model import LinearRegression\n",
        "from sklearn.preprocessing import OneHotEncoder\n",
        "from sklearn.tree import DecisionTreeRegressor\n",
        "from sklearn.ensemble import RandomForestRegressor, GradientBoostingRegressor\n",
        "from sklearn.metrics import mean_squared_error, mean_absolute_error, r2_score\n",
        "dfy.columns\n",
        "Index(['mobile_price', 'dual_sim', 'disp_size', 'os', 'num_cores', 'mp_speed',\n",
        "       'int_memory', 'ram', 'bluetooth', 'battery_power', 'mob_width',\n",
        "       'mob_height', 'mob_depth', 'mob_weight', 'resolution_Hight',\n",
        "       'resolution_width', 'network_count', 'mobile_color_basic',\n",
        "       'mobile_brand', 'f_camera', 'p_cam_max'],\n",
        "      dtype='object')\n",
        "x_dfy = dfy[['disp_size','os','num_cores','int_memory','ram','battery_power','mob_width',\n",
        "       'mob_height', 'mob_depth','mob_weight','network_count','f_camera', 'p_cam_max']]\n",
        "y_dfy = dfy['mobile_price']\n",
        "dfy['num_cores']= dfy['num_cores'].astype(int)\n",
        "training\n",
        "\n",
        "X_train, X_test, y_train, y_test = train_test_split(x_dfy, y_dfy, test_size= 0.3)"
      ],
      "metadata": {
        "id": "erk5BcYn17Iq"
      },
      "execution_count": null,
      "outputs": []
    },
    {
      "cell_type": "code",
      "source": [
        "X_train.head()\n",
        "disp_size\tos\tnum_cores\tint_memory\tram\tbattery_power\tmob_width\tmob_height\tmob_depth\tmob_weight\tnetwork_count\tf_camera\tp_cam_max\n",
        "4\t16.51\t10.0\t8\t128\t4\t5000\t75.40\t164.40\t9.00\t199.0\t4\t16\t48\n",
        "148\t15.21\t8.1\t8\t64\t4\t3010\t75.40\t158.70\t7.30\t168.0\t4\t20\t20\n",
        "432\t13.97\t5.1\t8\t64\t4\t3075\t76.00\t154.50\t7.38\t160.0\t3\t16\t13\n",
        "198\t16.21\t9.0\t8\t128\t8\t4500\t75.23\t159.53\t8.13\t189.6\t3\t32\t48\n",
        "280\t16.13\t9.0\t8\t64\t4\t5000\t76.77\t159.43\t8.92\t190.5\t4\t8\t13\n",
        "y_train.head()\n",
        "4      11999\n",
        "148    13999\n",
        "432    18990\n",
        "198    18990\n",
        "280    12990\n",
        "Name: mobile_price, dtype: int64"
      ],
      "metadata": {
        "id": "asDOi6X32BRK"
      },
      "execution_count": null,
      "outputs": []
    },
    {
      "cell_type": "code",
      "source": [
        "std_scaler=StandardScaler().fit(X_train) \n",
        "X_train_scaled=std_scaler.transform(X_train)\n",
        "X_test_scaled=std_scaler.transform(X_test)\n",
        "import statsmodels.api as sm\n",
        "X_train_const_scaled = sm.add_constant(X_train_scaled) \n",
        "model = sm.OLS(y_train, X_train_const_scaled).fit()\n",
        "predictions_train = model.predict(X_train_const_scaled)\n",
        "X_test_const_scaled = sm.add_constant(X_test_scaled)\n",
        "predictions_test = model.predict(X_test_const_scaled) \n",
        "print_model = model.summary()\n",
        "print(print_model)\n",
        "                            OLS Regression Results                            \n",
        "==============================================================================\n",
        "Dep. Variable:           mobile_price   R-squared:                       0.664\n",
        "Model:                            OLS   Adj. R-squared:                  0.650\n",
        "Method:                 Least Squares   F-statistic:                     46.66\n",
        "Date:                Sat, 01 Apr 2023   Prob (F-statistic):           8.88e-65\n",
        "Time:                        19:17:33   Log-Likelihood:                -3158.5\n",
        "No. Observations:                 321   AIC:                             6345.\n",
        "Df Residuals:                     307   BIC:                             6398.\n",
        "Df Model:                          13                                         \n",
        "Covariance Type:            nonrobust                                         \n",
        "==============================================================================\n",
        "                 coef    std err          t      P>|t|      [0.025      0.975]\n",
        "------------------------------------------------------------------------------\n",
        "const       1.617e+04    259.130     62.417      0.000    1.57e+04    1.67e+04\n",
        "x1          2255.3725    555.319      4.061      0.000    1162.660    3348.085\n",
        "x2         -1136.2980    507.980     -2.237      0.026   -2135.860    -136.735\n",
        "x3          -243.0408    284.207     -0.855      0.393    -802.281     316.199\n",
        "x4          2210.1195    466.006      4.743      0.000    1293.150    3127.089\n",
        "x5          3409.2097    520.682      6.548      0.000    2384.652    4433.768\n",
        "x6         -1786.4750    470.301     -3.799      0.000   -2711.896    -861.054\n",
        "x7         -2048.9961   1019.868     -2.009      0.045   -4055.813     -42.179"
      ],
      "metadata": {
        "id": "ul_C2cVS2IuY"
      },
      "execution_count": null,
      "outputs": []
    },
    {
      "cell_type": "code",
      "source": [
        "x8         -1936.2020    685.109     -2.826      0.005   -3284.305    -588.099\n",
        "x9         -1908.9211    904.496     -2.110      0.036   -3688.717    -129.125\n",
        "x10         1436.4363    591.380      2.429      0.016     272.765    2600.108\n",
        "x11         -313.2569    313.954     -0.998      0.319    -931.031     304.518\n",
        "x12          493.3425    315.685      1.563      0.119    -127.838    1114.523\n",
        "x13         -624.8163    406.849     -1.536      0.126   -1425.381     175.748\n",
        "==============================================================================\n",
        "Omnibus:                      175.945   Durbin-Watson:                   2.149\n",
        "Prob(Omnibus):                  0.000   Jarque-Bera (JB):             1574.749\n",
        "Skew:                           2.098   Prob(JB):                         0.00\n",
        "Kurtosis:                      13.006   Cond. No.                         12.5\n",
        "==============================================================================\n",
        "\n",
        "Notes:\n",
        "[1] Standard Errors assume that the covariance matrix of the errors is correctly specified.\n",
        "predictions_test"
      ],
      "metadata": {
        "id": "EQODabDL2UDI"
      },
      "execution_count": null,
      "outputs": []
    },
    {
      "cell_type": "code",
      "source": [
        "model.rsquared_adj\n",
        "0.6497110248959955\n",
        "model = LinearRegression()\n",
        "model.fit(X_train, y_train)\n",
        "y_pred = model.predict(X_test)\n",
        "model.coef_\n",
        "array([ 3.06863930e+03, -1.25808181e+03, -3.89768803e+02,  3.81412038e+01,\n",
        "        1.72654367e+03, -2.97943407e+00, -1.62672588e+02, -2.03640812e+02,\n",
        "       -1.43045463e+02,  8.08436750e+01, -4.47660945e+02,  5.87098811e+01,\n",
        "       -3.14710611e+01])\n",
        "model.intercept_\n",
        "14774.448798232661\n",
        "model.score(X_test_scaled,y_test)"
      ],
      "metadata": {
        "id": "A_3B2cyw2X-0"
      },
      "execution_count": null,
      "outputs": []
    },
    {
      "cell_type": "code",
      "source": [
        "y_pred=model.predict(X_test_scaled)\n",
        "result=pd.DataFrame({\"y_test\":y_test,\"y_pred\":y_pred})\n",
        "result"
      ],
      "metadata": {
        "id": "BRy7dhjD2e1V"
      },
      "execution_count": null,
      "outputs": []
    },
    {
      "cell_type": "code",
      "source": [
        "dfz = pd.read_csv(\"C:\\\\Users\\\\tharu\\\\Downloads\\\\airbnb_listing_train.csv\")\n",
        "dfz.head()"
      ],
      "metadata": {
        "id": "xqwTCRei2jop"
      },
      "execution_count": null,
      "outputs": []
    },
    {
      "cell_type": "code",
      "source": [
        "dfz.shape\n",
        "(12901, 16)\n",
        "dfz.isna().sum()\n",
        "id                                    0\n",
        "name                                 22\n",
        "host_id                               0\n",
        "host_name                             8\n",
        "neighbourhood_group               12901\n",
        "neighbourhood                         0\n",
        "latitude                              0\n",
        "longitude                             0\n",
        "room_type                             0\n",
        "minimum_nights                        0\n",
        "number_of_reviews                     0\n",
        "last_review                        1596\n",
        "reviews_per_month                  1596\n",
        "calculated_host_listings_count        0\n",
        "availability_365                      0\n",
        "price                                 0\n",
        "dtype: int64\n",
        "dfz.drop('neighbourhood_group', axis=1, inplace=True)\n",
        "dfz['last_review'] = dfz['last_review'].fillna(0)\n",
        "dfz['reviews_per_month'] = dfz['reviews_per_month'].fillna(0)\n",
        "dfz.isna().sum()"
      ],
      "metadata": {
        "id": "O2YyIOCq2oPr"
      },
      "execution_count": null,
      "outputs": []
    },
    {
      "cell_type": "code",
      "source": [
        "dfz['reviews_per_month'].unique()\n",
        "dfz.describe()"
      ],
      "metadata": {
        "id": "j7aqQE7F2uuo"
      },
      "execution_count": null,
      "outputs": []
    },
    {
      "cell_type": "code",
      "source": [
        "dfz.head()"
      ],
      "metadata": {
        "id": "yBvDi6aC240u"
      },
      "execution_count": null,
      "outputs": []
    },
    {
      "cell_type": "code",
      "source": [
        "dfz.drop(['name','host_name'], axis=1, inplace=True)\n",
        "dfz.info()\n",
        "<class 'pandas.core.frame.DataFrame'>\n",
        "RangeIndex: 12901 entries, 0 to 12900\n",
        "Data columns (total 13 columns):\n",
        " #   Column                          Non-Null Count  Dtype  \n",
        "---  ------                          --------------  -----  \n",
        " 0   id                              12901 non-null  int64  \n",
        " 1   host_id                         12901 non-null  int64  \n",
        " 2   neighbourhood                   12901 non-null  object \n",
        " 3   latitude                        12901 non-null  float64\n",
        " 4   longitude                       12901 non-null  float64\n",
        " 5   room_type                       12901 non-null  object \n",
        " 6   minimum_nights                  12901 non-null  int64  \n",
        " 7   number_of_reviews               12901 non-null  int64  \n",
        " 8   last_review                     12901 non-null  object \n",
        " 9   reviews_per_month               12901 non-null  float64\n",
        " 10  calculated_host_listings_count  12901 non-null  int64  \n",
        " 11  availability_365                12901 non-null  int64  \n",
        " 12  price                           12901 non-null  int64  \n",
        "dtypes: float64(3), int64(7), object(3)\n",
        "memory usage: 1.3+ MB\n",
        "dfz['neighbourhood'] = dfz['neighbourhood'].astype('category')\n",
        "dfz['neighbourhood'] = dfz['neighbourhood'].cat.codes\n",
        "dfz['neighbourhood'].value_counts()"
      ],
      "metadata": {
        "id": "fr6Q8qzf2_su"
      },
      "execution_count": null,
      "outputs": []
    },
    {
      "cell_type": "code",
      "source": [
        "dfz['room_type'].value_counts()\n",
        "Entire home/apt    10064\n",
        "Private room        2622\n",
        "Hotel room           174\n",
        "Shared room           41\n",
        "Name: room_type, dtype: int64\n",
        "dfz = pd.get_dummies(dfz, columns=['room_type'])\n",
        "R = 6371000 \n",
        "lon,lat = map(np.radians, [dfz['longitude'], dfz['latitude']])\n",
        "\n",
        "a = np.sin(lat/2)**2 + np.cos(lat) * np.sin(lon/2)**2\n",
        "distance = 2 * R * np.arcsin(np.sqrt(a))\n",
        "\n",
        "dfz['distance'] = distance\n",
        "dfz.drop(['latitude', 'longitude'], axis = 1, inplace = True)\n",
        "dfz.dtypes"
      ],
      "metadata": {
        "id": "tKq5rkxD3Ft_"
      },
      "execution_count": null,
      "outputs": []
    },
    {
      "cell_type": "code",
      "source": [
        "dfz.groupby('price').mean()"
      ],
      "metadata": {
        "id": "_GZTNdu83TDF"
      },
      "execution_count": null,
      "outputs": []
    },
    {
      "cell_type": "code",
      "source": [
        "dfz.drop(['last_review','reviews_per_month'], axis=1, inplace =True)\n",
        "X = dfz.drop('price', axis = 1)\n",
        "y = dfz['price']\n",
        "X_train, X_test, y_train, y_test = train_test_split(X, y, test_size=0.20, random_state=5)\n",
        "X_train = pd.DataFrame(X_train)\n",
        "X_test = pd.DataFrame(X_test)\n",
        "X_train.head(3)"
      ],
      "metadata": {
        "id": "PLH3B4ld3XgW"
      },
      "execution_count": null,
      "outputs": []
    },
    {
      "cell_type": "code",
      "source": [
        "from catboost import CatBoostRegressor\n",
        "from sklearn.model_selection import GridSearchCV"
      ],
      "metadata": {
        "id": "17fDGZbh3cJE"
      },
      "execution_count": null,
      "outputs": []
    },
    {
      "cell_type": "code",
      "source": [
        "model = CatBoostRegressor(random_seed = 42 )\n",
        "parameters = {'depth'         : [6,8,10,21],\n",
        "                  'learning_rate' : [0.01, 0.05, 0.1],\n",
        "                  'iterations'    : [30, 50, 100]\n",
        "              }\n",
        "grid = GridSearchCV(estimator=model, param_grid = parameters, cv = 2, n_jobs=-1)\n",
        "grid.fit(X_train, y_train)"
      ],
      "metadata": {
        "id": "06PbuaEW3hJg"
      },
      "execution_count": null,
      "outputs": []
    },
    {
      "cell_type": "code",
      "source": [
        "0:\tlearn: 244.4382825\ttotal: 162ms\tremaining: 16s\n",
        "1:\tlearn: 240.1185145\ttotal: 179ms\tremaining: 8.79s\n",
        "2:\tlearn: 236.1479290\ttotal: 198ms\tremaining: 6.39s\n",
        "3:\tlearn: 231.9562254\ttotal: 216ms\tremaining: 5.17s\n",
        "4:\tlearn: 228.1668169\ttotal: 236ms\tremaining: 4.49s\n",
        "5:\tlearn: 224.2159889\ttotal: 257ms\tremaining: 4.02s\n",
        "6:\tlearn: 220.7483249\ttotal: 282ms\tremaining: 3.75s\n",
        "7:\tlearn: 217.3534504\ttotal: 305ms\tremaining: 3.5s\n",
        "8:\tlearn: 214.1038554\ttotal: 339ms\tremaining: 3.43s\n",
        "9:\tlearn: 211.1783329\ttotal: 358ms\tremaining: 3.22s\n",
        "10:\tlearn: 208.5675474\ttotal: 380ms\tremaining: 3.08s\n",
        "11:\tlearn: 205.9405104\ttotal: 424ms\tremaining: 3.11s\n",
        "12:\tlearn: 203.5350374\ttotal: 453ms\tremaining: 3.03s\n",
        "13:\tlearn: 200.9682453\ttotal: 488ms\tremaining: 3s\n",
        "14:\tlearn: 198.8966547\ttotal: 521ms\tremaining: 2.95s\n",
        "15:\tlearn: 196.8866077\ttotal: 541ms\tremaining: 2.84s\n",
        "16:\tlearn: 194.9877525\ttotal: 563ms\tremaining: 2.75s\n",
        "17:\tlearn: 193.2770903\ttotal: 581ms\tremaining: 2.65s\n",
        "18:\tlearn: 191.5196857\ttotal: 597ms\tremaining: 2.54s\n",
        "19:\tlearn: 189.4254445\ttotal: 615ms\tremaining: 2.46s\n",
        "20:\tlearn: 187.8923895\ttotal: 638ms\tremaining: 2.4s\n",
        "21:\tlearn: 186.0052925\ttotal: 671ms\tremaining: 2.38s\n",
        "22:\tlearn: 184.4503103\ttotal: 702ms\tremaining: 2.35s\n",
        "23:\tlearn: 182.9774467\ttotal: 722ms\tremaining: 2.29s\n",
        "24:\tlearn: 181.9308309\ttotal: 742ms\tremaining: 2.23s\n",
        "25:\tlearn: 180.5699941\ttotal: 760ms\tremaining: 2.16s\n",
        "26:\tlearn: 179.3176380\ttotal: 779ms\tremaining: 2.11s\n",
        "27:\tlearn: 177.5165601\ttotal: 799ms\tremaining: 2.05s\n",
        "28:\tlearn: 175.7948874\ttotal: 823ms\tremaining: 2.01s\n",
        "29:\tlearn: 174.9121556\ttotal: 844ms\tremaining: 1.97s\n",
        "30:\tlearn: 173.9595197\ttotal: 866ms\tremaining: 1.93s\n",
        "31:\tlearn: 172.6885109\ttotal: 899ms\tremaining: 1.91s\n",
        "32:\tlearn: 171.3530538\ttotal: 913ms\tremaining: 1.85s\n",
        "33:\tlearn: 170.5993208\ttotal: 943ms\tremaining: 1.83s\n",
        "34:\tlearn: 169.6133187\ttotal: 960ms\tremaining: 1.78s\n",
        "35:\tlearn: 168.1924167\ttotal: 979ms\tremaining: 1.74s\n",
        "36:\tlearn: 167.4557737\ttotal: 997ms\tremaining: 1.7s"
      ],
      "metadata": {
        "id": "tJQ7oF_t3kTp"
      },
      "execution_count": null,
      "outputs": []
    },
    {
      "cell_type": "code",
      "source": [
        "37:\tlearn: 166.4936259\ttotal: 1.02s\tremaining: 1.66s\n",
        "38:\tlearn: 165.4879445\ttotal: 1.03s\tremaining: 1.62s\n",
        "39:\tlearn: 164.8829261\ttotal: 1.06s\tremaining: 1.59s\n",
        "40:\tlearn: 164.2863788\ttotal: 1.09s\tremaining: 1.56s\n",
        "41:\tlearn: 163.7414080\ttotal: 1.12s\tremaining: 1.55s\n",
        "42:\tlearn: 162.8689843\ttotal: 1.14s\tremaining: 1.51s\n",
        "43:\tlearn: 162.2531130\ttotal: 1.17s\tremaining: 1.49s\n",
        "44:\tlearn: 161.5102276\ttotal: 1.19s\tremaining: 1.45s\n",
        "45:\tlearn: 160.6136243\ttotal: 1.21s\tremaining: 1.42s\n",
        "46:\tlearn: 159.5545082\ttotal: 1.23s\tremaining: 1.38s\n",
        "47:\tlearn: 159.1129372\ttotal: 1.25s\tremaining: 1.35s\n",
        "48:\tlearn: 158.6085433\ttotal: 1.27s\tremaining: 1.32s\n",
        "49:\tlearn: 157.8921813\ttotal: 1.3s\tremaining: 1.3s\n",
        "50:\tlearn: 157.0666819\ttotal: 1.34s\tremaining: 1.29s\n",
        "51:\tlearn: 156.4207525\ttotal: 1.37s\tremaining: 1.27s\n",
        "52:\tlearn: 155.5333403\ttotal: 1.4s\tremaining: 1.24s\n",
        "53:\tlearn: 155.2302205\ttotal: 1.42s\tremaining: 1.21s\n",
        "54:\tlearn: 154.5172858\ttotal: 1.44s\tremaining: 1.18s\n",
        "55:\tlearn: 154.0234864\ttotal: 1.46s\tremaining: 1.15s\n",
        "56:\tlearn: 153.3509139\ttotal: 1.49s\tremaining: 1.12s\n",
        "57:\tlearn: 152.7818344\ttotal: 1.51s\tremaining: 1.1s\n",
        "58:\tlearn: 152.4070906\ttotal: 1.55s\tremaining: 1.08s\n",
        "59:\tlearn: 152.0052475\ttotal: 1.57s\tremaining: 1.05s\n",
        "60:\tlearn: 151.4406783\ttotal: 1.6s\tremaining: 1.02s\n",
        "61:\tlearn: 151.0435044\ttotal: 1.62s\tremaining: 994ms\n",
        "62:\tlearn: 150.6895011\ttotal: 1.63s\tremaining: 960ms\n",
        "63:\tlearn: 150.3291942\ttotal: 1.66s\tremaining: 931ms\n",
        "64:\tlearn: 149.8629877\ttotal: 1.67s\tremaining: 901ms\n",
        "65:\tlearn: 149.4608558\ttotal: 1.69s\tremaining: 873ms\n",
        "66:\tlearn: 149.2051772\ttotal: 1.72s\tremaining: 846ms\n",
        "67:\tlearn: 148.8208351\ttotal: 1.75s\tremaining: 822ms\n",
        "68:\tlearn: 148.4706642\ttotal: 1.78s\tremaining: 799ms\n",
        "69:\tlearn: 147.9818202\ttotal: 1.8s\tremaining: 774ms\n",
        "70:\tlearn: 147.5121810\ttotal: 1.82s\tremaining: 745ms\n",
        "71:\tlearn: 147.3162116\ttotal: 1.85s\tremaining: 719ms\n",
        "72:\tlearn: 146.9661448\ttotal: 1.87s\tremaining: 692ms\n",
        "73:\tlearn: 146.3735549\ttotal: 1.89s\tremaining: 665ms"
      ],
      "metadata": {
        "id": "aUDEqO8v3vKm"
      },
      "execution_count": null,
      "outputs": []
    },
    {
      "cell_type": "code",
      "source": [
        "75:\tlearn: 145.4870771\ttotal: 1.95s\tremaining: 614ms\n",
        "76:\tlearn: 145.3210722\ttotal: 1.98s\tremaining: 590ms\n",
        "77:\tlearn: 144.8551637\ttotal: 2s\tremaining: 564ms\n",
        "78:\tlearn: 144.6493999\ttotal: 2.02s\tremaining: 537ms\n",
        "79:\tlearn: 144.3550475\ttotal: 2.02s\tremaining: 506ms\n",
        "80:\tlearn: 144.0179605\ttotal: 2.05s\tremaining: 480ms\n",
        "81:\tlearn: 143.7268550\ttotal: 2.07s\tremaining: 454ms\n",
        "82:\tlearn: 143.4030353\ttotal: 2.09s\tremaining: 428ms\n",
        "83:\tlearn: 143.2627796\ttotal: 2.11s\tremaining: 402ms\n",
        "84:\tlearn: 142.5105266\ttotal: 2.13s\tremaining: 376ms\n",
        "85:\tlearn: 142.2030818\ttotal: 2.15s\tremaining: 351ms\n",
        "86:\tlearn: 141.8144488\ttotal: 2.18s\tremaining: 326ms\n",
        "87:\tlearn: 141.4119288\ttotal: 2.21s\tremaining: 301ms\n",
        "88:\tlearn: 141.1124413\ttotal: 2.23s\tremaining: 275ms\n",
        "89:\tlearn: 140.8362315\ttotal: 2.25s\tremaining: 249ms\n",
        "90:\tlearn: 140.4505062\ttotal: 2.27s\tremaining: 224ms\n",
        "91:\tlearn: 140.0531835\ttotal: 2.29s\tremaining: 199ms\n",
        "92:\tlearn: 139.7921091\ttotal: 2.29s\tremaining: 172ms\n",
        "93:\tlearn: 139.4689871\ttotal: 2.31s\tremaining: 148ms\n",
        "94:\tlearn: 139.1885858\ttotal: 2.34s\tremaining: 123ms\n",
        "95:\tlearn: 138.9265685\ttotal: 2.36s\tremaining: 98.4ms\n",
        "96:\tlearn: 138.6476472\ttotal: 2.39s\tremaining: 73.8ms\n",
        "97:\tlearn: 138.4685825\ttotal: 2.4s\tremaining: 49ms\n",
        "98:\tlearn: 138.2118647\ttotal: 2.43s\tremaining: 24.5ms\n",
        "99:\tlearn: 137.9817595\ttotal: 2.45s\tremaining: 0us"
      ],
      "metadata": {
        "id": "X0RuM-k230Ra"
      },
      "execution_count": null,
      "outputs": []
    },
    {
      "cell_type": "code",
      "source": [
        "pred = grid.predict(X_test)\n",
        "grid.score(X_test, y_test)\n",
        "0.11175927808523356\n",
        "r2_score(y_test, pred)\n",
        "0.11175927808523356\n",
        "print(mean_absolute_error(y_test, pred), end='\\n')\n",
        "print(mean_squared_error(y_test, pred), end='\\n')\n",
        "print(np.sqrt(mean_squared_error(y_test, pred)))\n",
        "62.54765937124322\n",
        "24080.109181691554\n",
        "155.17766972632228\n",
        "dfz_test = pd.read_csv(\"C:\\\\Users\\\\tharu\\\\Downloads\\\\airbnb_listing_validate.csv\")\n",
        "dfz.columns\n",
        "Index(['id', 'host_id', 'neighbourhood', 'minimum_nights', 'number_of_reviews',\n",
        "       'calculated_host_listings_count', 'availability_365', 'price',\n",
        "       'room_type_Entire home/apt', 'room_type_Hotel room',\n",
        "       'room_type_Private room', 'room_type_Shared room', 'distance'],\n",
        "      dtype='object')\n",
        "dfz_test.info()"
      ],
      "metadata": {
        "id": "4eLjI6BB39LL"
      },
      "execution_count": null,
      "outputs": []
    },
    {
      "cell_type": "code",
      "source": [
        "<class 'pandas.core.frame.DataFrame'>\n",
        "RangeIndex: 6451 entries, 0 to 6450\n",
        "Data columns (total 15 columns):\n",
        " #   Column                          Non-Null Count  Dtype  \n",
        "---  ------                          --------------  -----  \n",
        " 0   id                              6451 non-null   int64  \n",
        " 1   name                            6440 non-null   object \n",
        " 2   host_id                         6451 non-null   int64  \n",
        " 3   host_name                       6448 non-null   object \n",
        " 4   neighbourhood_group             0 non-null      float64\n",
        " 5   neighbourhood                   6451 non-null   object \n",
        " 6   latitude                        6451 non-null   float64\n",
        " 7   longitude                       6451 non-null   float64\n",
        " 8   room_type                       6451 non-null   object \n",
        " 9   minimum_nights                  6451 non-null   int64  \n",
        " 10  number_of_reviews               6451 non-null   int64  \n",
        " 11  last_review                     5655 non-null   object \n",
        " 12  reviews_per_month               5655 non-null   float64\n",
        " 13  calculated_host_listings_count  6451 non-null   int64  \n",
        " 14  availability_365                6451 non-null   int64  \n",
        "dtypes: float64(4), int64(6), object(5)\n",
        "memory usage: 756.1+ KB\n",
        "dfz_test.isna().sum()"
      ],
      "metadata": {
        "id": "fSISkKR-4H3h"
      },
      "execution_count": null,
      "outputs": []
    },
    {
      "cell_type": "code",
      "source": [
        "dfz_test.drop(['name','host_name','neighbourhood_group', 'last_review','reviews_per_month'], axis=1, inplace =True)\n",
        "dfz_test['neighbourhood'] = dfz_test['neighbourhood'].astype('category')\n",
        "dfz_test.dtypes\n",
        "id                                   int64\n",
        "host_id                              int64\n",
        "neighbourhood                     category\n",
        "latitude                           float64\n",
        "longitude                          float64\n",
        "room_type                           object\n",
        "minimum_nights                       int64\n",
        "number_of_reviews                    int64\n",
        "calculated_host_listings_count       int64\n",
        "availability_365                     int64\n",
        "dtype: object\n",
        "dfz_test['neighbourhood'] = dfz_test['neighbourhood'].cat.codes\n",
        "dfz_test = pd.get_dummies(dfz_test, columns=['room_type'])\n",
        "R = 6371000 \n",
        "lon,lat = map(np.radians, [dfz_test['longitude'], dfz_test['latitude']])\n",
        "\n",
        "a = np.sin(lat/2)**2 + np.cos(lat) * np.sin(lon/2)**2\n",
        "distance = 2 * R * np.arcsin(np.sqrt(a))\n",
        "\n",
        "dfz_test['distance'] = distance\n",
        "dfz_test.drop(['latitude', 'longitude'], axis = 1, inplace = True)\n",
        "dfz_test.columns"
      ],
      "metadata": {
        "id": "BQZyE0VQ4ODF"
      },
      "execution_count": null,
      "outputs": []
    },
    {
      "cell_type": "code",
      "source": [
        "dfz_test.info()\n",
        "<class 'pandas.core.frame.DataFrame'>\n",
        "RangeIndex: 6451 entries, 0 to 6450\n",
        "Data columns (total 12 columns):\n",
        " #   Column                          Non-Null Count  Dtype  \n",
        "---  ------                          --------------  -----  \n",
        " 0   id                              6451 non-null   int64  \n",
        " 1   host_id                         6451 non-null   int64  \n",
        " 2   neighbourhood                   6451 non-null   int8   \n",
        " 3   minimum_nights                  6451 non-null   int64  \n",
        " 4   number_of_reviews               6451 non-null   int64  \n",
        " 5   calculated_host_listings_count  6451 non-null   int64  \n",
        " 6   availability_365                6451 non-null   int64  \n",
        " 7   room_type_Entire home/apt       6451 non-null   uint8  \n",
        " 8   room_type_Hotel room            6451 non-null   uint8  \n",
        " 9   room_type_Private room          6451 non-null   uint8  \n",
        " 10  room_type_Shared room           6451 non-null   uint8  \n",
        " 11  distance                        6451 non-null   float64\n",
        "dtypes: float64(1), int64(6), int8(1), uint8(4)\n",
        "memory usage: 384.4 KB\n",
        "newmodel = CatBoostRegressor(random_seed = 42 )\n",
        "newparameters = {'depth'         : [6,8,10,21],\n",
        "                  'learning_rate' : [0.01, 0.05, 0.1],\n",
        "                  'iterations'    : [30, 50, 100]\n",
        "              }\n",
        "newgrid = GridSearchCV(estimator=newmodel, param_grid = newparameters, cv = 2, n_jobs=-1)\n",
        "newgrid.fit(X, y)"
      ],
      "metadata": {
        "id": "1kj_xRAx4T7D"
      },
      "execution_count": null,
      "outputs": []
    },
    {
      "cell_type": "code",
      "source": [
        "0:\tlearn: 226.8804979\ttotal: 35.1ms\tremaining: 3.47s\n",
        "1:\tlearn: 219.7382604\ttotal: 67.7ms\tremaining: 3.32s\n",
        "2:\tlearn: 213.6310975\ttotal: 99.5ms\tremaining: 3.21s\n",
        "3:\tlearn: 207.8563910\ttotal: 127ms\tremaining: 3.05s\n",
        "4:\tlearn: 202.2634806\ttotal: 153ms\tremaining: 2.9s\n",
        "5:\tlearn: 197.5928495\ttotal: 179ms\tremaining: 2.8s\n",
        "6:\tlearn: 194.2531726\ttotal: 210ms\tremaining: 2.79s\n",
        "7:\tlearn: 191.4235273\ttotal: 245ms\tremaining: 2.81s\n",
        "8:\tlearn: 187.9726597\ttotal: 321ms\tremaining: 3.25s\n",
        "9:\tlearn: 184.7710159\ttotal: 430ms\tremaining: 3.87s\n",
        "10:\tlearn: 182.0696438\ttotal: 483ms\tremaining: 3.91s\n",
        "11:\tlearn: 179.5887931\ttotal: 520ms\tremaining: 3.81s\n",
        "12:\tlearn: 176.9082028\ttotal: 558ms\tremaining: 3.73s\n",
        "13:\tlearn: 174.1498182\ttotal: 592ms\tremaining: 3.64s\n",
        "14:\tlearn: 171.8225554\ttotal: 622ms\tremaining: 3.52s\n",
        "15:\tlearn: 170.0824987\ttotal: 660ms\tremaining: 3.46s\n",
        "16:\tlearn: 168.9389340\ttotal: 683ms\tremaining: 3.33s\n",
        "17:\tlearn: 166.8862484\ttotal: 707ms\tremaining: 3.22s\n",
        "18:\tlearn: 165.3678104\ttotal: 737ms\tremaining: 3.14s\n",
        "19:\tlearn: 163.0756774\ttotal: 764ms\tremaining: 3.06s\n",
        "20:\tlearn: 162.1963891\ttotal: 798ms\tremaining: 3s\n",
        "21:\tlearn: 160.4702149\ttotal: 831ms\tremaining: 2.94s\n",
        "22:\tlearn: 158.7198651\ttotal: 861ms\tremaining: 2.88s\n",
        "23:\tlearn: 157.9151568\ttotal: 887ms\tremaining: 2.81s\n",
        "24:\tlearn: 157.0133087\ttotal: 914ms\tremaining: 2.74s\n",
        "25:\tlearn: 156.1349072\ttotal: 937ms\tremaining: 2.67s\n",
        "26:\tlearn: 155.0817919\ttotal: 966ms\tremaining: 2.61s\n",
        "27:\tlearn: 154.1428391\ttotal: 1s\tremaining: 2.58s\n",
        "28:\tlearn: 153.5151358\ttotal: 1.04s\tremaining: 2.55s\n",
        "29:\tlearn: 153.0059367\ttotal: 1.06s\tremaining: 2.49s\n",
        "30:\tlearn: 152.4962755\ttotal: 1.08s\tremaining: 2.42s\n",
        "31:\tlearn: 151.7844114\ttotal: 1.11s\tremaining: 2.35s\n",
        "32:\tlearn: 150.8976296\ttotal: 1.13s\tremaining: 2.3s\n",
        "33:\tlearn: 150.6041969\ttotal: 1.15s\tremaining: 2.24s\n",
        "34:\tlearn: 150.0324108\ttotal: 1.18s\tremaining: 2.19s\n",
        "35:\tlearn: 149.6050978\ttotal: 1.21s\tremaining: 2.15s\n",
        "36:\tlearn: 148.9431914\ttotal: 1.24s\tremaining: 2.1s"
      ],
      "metadata": {
        "id": "43dGsUb_4Znt"
      },
      "execution_count": null,
      "outputs": []
    },
    {
      "cell_type": "code",
      "source": [
        "37:\tlearn: 148.2060225\ttotal: 1.26s\tremaining: 2.06s\n",
        "38:\tlearn: 147.5564081\ttotal: 1.29s\tremaining: 2.01s\n",
        "39:\tlearn: 146.9283503\ttotal: 1.31s\tremaining: 1.97s\n",
        "40:\tlearn: 146.6570203\ttotal: 1.35s\tremaining: 1.95s\n",
        "41:\tlearn: 146.1761774\ttotal: 1.39s\tremaining: 1.92s\n",
        "42:\tlearn: 145.4604456\ttotal: 1.44s\tremaining: 1.9s\n",
        "43:\tlearn: 145.0993922\ttotal: 1.48s\tremaining: 1.88s\n",
        "44:\tlearn: 144.5127180\ttotal: 1.5s\tremaining: 1.84s\n",
        "45:\tlearn: 144.1043093\ttotal: 1.53s\tremaining: 1.8s\n",
        "46:\tlearn: 143.6384114\ttotal: 1.55s\tremaining: 1.75s\n",
        "47:\tlearn: 143.1668660\ttotal: 1.57s\tremaining: 1.71s\n",
        "48:\tlearn: 142.5531100\ttotal: 1.6s\tremaining: 1.67s\n",
        "49:\tlearn: 141.9182999\ttotal: 1.63s\tremaining: 1.63s\n",
        "50:\tlearn: 141.1773230\ttotal: 1.67s\tremaining: 1.6s\n",
        "51:\tlearn: 140.7211207\ttotal: 1.68s\tremaining: 1.55s\n",
        "52:\tlearn: 140.3489662\ttotal: 1.71s\tremaining: 1.52s\n",
        "53:\tlearn: 139.8666288\ttotal: 1.74s\tremaining: 1.49s\n",
        "54:\tlearn: 139.2920947\ttotal: 1.77s\tremaining: 1.45s\n",
        "55:\tlearn: 138.3656494\ttotal: 1.79s\tremaining: 1.41s\n",
        "56:\tlearn: 137.8572478\ttotal: 1.81s\tremaining: 1.36s\n",
        "57:\tlearn: 137.6518243\ttotal: 1.83s\tremaining: 1.32s\n",
        "58:\tlearn: 137.1027115\ttotal: 1.84s\tremaining: 1.28s\n",
        "59:\tlearn: 136.6422019\ttotal: 1.86s\tremaining: 1.24s\n",
        "60:\tlearn: 135.9510648\ttotal: 1.87s\tremaining: 1.2s\n",
        "61:\tlearn: 135.5296286\ttotal: 1.88s\tremaining: 1.15s\n",
        "62:\tlearn: 135.0210152\ttotal: 1.9s\tremaining: 1.12s\n",
        "63:\tlearn: 134.6462167\ttotal: 1.92s\tremaining: 1.08s\n",
        "64:\tlearn: 134.2102350\ttotal: 1.94s\tremaining: 1.04s\n",
        "65:\tlearn: 133.8602600\ttotal: 1.95s\tremaining: 1s\n",
        "66:\tlearn: 133.4761792\ttotal: 1.97s\tremaining: 970ms\n",
        "67:\tlearn: 133.2329683\ttotal: 1.99s\tremaining: 934ms\n",
        "68:\tlearn: 132.7679651\ttotal: 2s\tremaining: 900ms\n",
        "69:\tlearn: 132.5081333\ttotal: 2.02s\tremaining: 867ms\n",
        "70:\tlearn: 132.1176042\ttotal: 2.04s\tremaining: 833ms\n",
        "71:\tlearn: 131.8725014\ttotal: 2.06s\tremaining: 800ms\n",
        "72:\tlearn: 131.6935532\ttotal: 2.07s\tremaining: 767ms\n",
        "73:\tlearn: 131.2980765\ttotal: 2.09s\tremaining: 735ms"
      ],
      "metadata": {
        "id": "0gEeArq24h-i"
      },
      "execution_count": null,
      "outputs": []
    },
    {
      "cell_type": "code",
      "source": [
        "74:\tlearn: 130.6098718\ttotal: 2.11s\tremaining: 702ms\n",
        "75:\tlearn: 129.8452844\ttotal: 2.12s\tremaining: 671ms\n",
        "76:\tlearn: 129.4024202\ttotal: 2.14s\tremaining: 639ms\n",
        "77:\tlearn: 129.0425065\ttotal: 2.16s\tremaining: 608ms\n",
        "78:\tlearn: 128.7545833\ttotal: 2.17s\tremaining: 578ms\n",
        "79:\tlearn: 128.3632008\ttotal: 2.19s\tremaining: 548ms\n",
        "80:\tlearn: 128.1120783\ttotal: 2.21s\tremaining: 518ms\n",
        "81:\tlearn: 127.9059795\ttotal: 2.22s\tremaining: 488ms\n",
        "82:\tlearn: 127.7705114\ttotal: 2.24s\tremaining: 459ms\n",
        "83:\tlearn: 127.5186619\ttotal: 2.26s\tremaining: 431ms\n",
        "84:\tlearn: 127.2497920\ttotal: 2.28s\tremaining: 402ms\n",
        "85:\tlearn: 127.0093790\ttotal: 2.28s\tremaining: 371ms\n",
        "86:\tlearn: 126.7776904\ttotal: 2.3s\tremaining: 344ms\n",
        "87:\tlearn: 126.4273432\ttotal: 2.32s\tremaining: 317ms\n",
        "88:\tlearn: 126.1517264\ttotal: 2.34s\tremaining: 290ms\n",
        "89:\tlearn: 125.8768447\ttotal: 2.36s\tremaining: 263ms\n",
        "90:\tlearn: 125.8618218\ttotal: 2.37s\tremaining: 234ms\n",
        "91:\tlearn: 125.0513071\ttotal: 2.4s\tremaining: 208ms\n",
        "92:\tlearn: 124.7010858\ttotal: 2.41s\tremaining: 182ms\n",
        "93:\tlearn: 124.5262361\ttotal: 2.43s\tremaining: 155ms\n",
        "94:\tlearn: 124.3365020\ttotal: 2.46s\tremaining: 129ms\n",
        "95:\tlearn: 124.1190343\ttotal: 2.48s\tremaining: 103ms\n",
        "96:\tlearn: 123.6388904\ttotal: 2.51s\tremaining: 77.6ms\n",
        "97:\tlearn: 123.4404361\ttotal: 2.52s\tremaining: 51.5ms\n",
        "98:\tlearn: 123.2393148\ttotal: 2.55s\tremaining: 25.8ms\n",
        "99:\tlearn: 122.6569854\ttotal: 2.58s\tremaining: 0us"
      ],
      "metadata": {
        "id": "TOULMnWb4oc0"
      },
      "execution_count": null,
      "outputs": []
    },
    {
      "cell_type": "code",
      "source": [
        "In a Jupyter environment, please rerun this cell to show the HTML representation or trust the notebook.\n",
        "On GitHub, the HTML representation is unable to render, please try loading this page with nbviewer.org.\n",
        "testnew_pred = newgrid.predict(dfz_test)\n",
        "res = pd.DataFrame(testnew_pred)\n",
        "res.index = dfz_test.index \n",
        "res.index = dfz_test['id'] \n",
        "res.columns = ['price']\n",
        "res.to_csv('sample_submission.csv')"
      ],
      "metadata": {
        "id": "Rq2_COuK4uVY"
      },
      "execution_count": null,
      "outputs": []
    }
  ]
}